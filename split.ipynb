{
 "cells": [
  {
   "cell_type": "code",
   "execution_count": 4,
   "metadata": {},
   "outputs": [],
   "source": [
    "readme = open('./All_in_one.md', encoding='utf-8').read()"
   ]
  },
  {
   "cell_type": "code",
   "execution_count": 6,
   "metadata": {},
   "outputs": [],
   "source": [
    "parts = readme.split('\\n##')"
   ]
  },
  {
   "cell_type": "code",
   "execution_count": 7,
   "metadata": {},
   "outputs": [
    {
     "name": "stdout",
     "output_type": "stream",
     "text": [
      "# Arabic NLP Survey Papers Repository (ASPR) - مستودع الأوراق المسحية في معالجة اللغة العربية (أسبر)\n",
      "\n",
      " General\n",
      " Enabling Tools (Morphology, Diacritization, Grammer, etc.)\n",
      " Text Classification & Mining\n",
      " Named Entity Recognition\n",
      " Quesion Answering\n",
      " Sentiment Analysis\n",
      " Speech\n",
      " Summarization\n",
      " Conversational AI (Chatbots & Dialogue systems)\n",
      " Word Sense Disambiguation (WSD)\n",
      " Dialects\n",
      " Plagiarism Detection Systems\n",
      " Machine Translation\n",
      " Handwriting Recognition & OCR\n",
      " Offensive Language Detection\n",
      " Fake news and Spam\n",
      " Ontology and Resources\n",
      " Information Retrieval\n",
      " Opinion Mining\n",
      " Knowledge Graph \n",
      " Query Expansion\n",
      " Religious Text\n",
      " Others (Steganography, Transfer Learning, Deep learning, etc.) \n"
     ]
    }
   ],
   "source": [
    "for part in parts:\n",
    "    print(part.split('\\n')[0])"
   ]
  },
  {
   "cell_type": "code",
   "execution_count": 20,
   "metadata": {},
   "outputs": [],
   "source": [
    "for i in range(2, len(parts)):\n",
    "    part = parts[i]\n",
    "    title = parts[i].split('\\n')[0].strip()\n",
    "    home_link = \"[Table of Contents](README.md)\\n\\n\"\n",
    "    part = home_link + \"#\" + part \n",
    "    filename = str(i-1).zfill(2) + \" \" + title + \".md\"\n",
    "    with open(filename, encoding='utf-8', mode='w') as file_writer:\n",
    "        file_writer.write(part)"
   ]
  },
  {
   "cell_type": "code",
   "execution_count": 25,
   "metadata": {},
   "outputs": [
    {
     "name": "stdout",
     "output_type": "stream",
     "text": [
      "- [01 General](../blob/master/01 General.md)\n",
      "- [02 Enabling Tools (Morphology, Diacritization, Grammer, etc.)](../blob/master/02 Enabling Tools (Morphology, Diacritization, Grammer, etc.).md)\n",
      "- [03 Text Classification & Mining](../blob/master/03 Text Classification & Mining.md)\n",
      "- [04 Named Entity Recognition](../blob/master/04 Named Entity Recognition.md)\n",
      "- [05 Quesion Answering](../blob/master/05 Quesion Answering.md)\n",
      "- [06 Sentiment Analysis](../blob/master/06 Sentiment Analysis.md)\n",
      "- [07 Speech](../blob/master/07 Speech.md)\n",
      "- [08 Summarization](../blob/master/08 Summarization.md)\n",
      "- [09 Conversational AI (Chatbots & Dialogue systems)](../blob/master/09 Conversational AI (Chatbots & Dialogue systems).md)\n",
      "- [10 Word Sense Disambiguation (WSD)](../blob/master/10 Word Sense Disambiguation (WSD).md)\n",
      "- [11 Dialects](../blob/master/11 Dialects.md)\n",
      "- [12 Plagiarism Detection Systems](../blob/master/12 Plagiarism Detection Systems.md)\n",
      "- [13 Machine Translation](../blob/master/13 Machine Translation.md)\n",
      "- [14 Handwriting Recognition & OCR](../blob/master/14 Handwriting Recognition & OCR.md)\n",
      "- [15 Offensive Language Detection](../blob/master/15 Offensive Language Detection.md)\n",
      "- [16 Fake news and Spam](../blob/master/16 Fake news and Spam.md)\n",
      "- [17 Ontology and Resources](../blob/master/17 Ontology and Resources.md)\n",
      "- [18 Information Retrieval](../blob/master/18 Information Retrieval.md)\n",
      "- [19 Opinion Mining](../blob/master/19 Opinion Mining.md)\n",
      "- [20 Knowledge Graph](../blob/master/20 Knowledge Graph.md)\n",
      "- [21 Query Expansion](../blob/master/21 Query Expansion.md)\n",
      "- [22 Religious Text](../blob/master/22 Religious Text.md)\n",
      "- [23 Others (Steganography, Transfer Learning, Deep learning, etc.)](../blob/master/23 Others (Steganography, Transfer Learning, Deep learning, etc.).md)\n"
     ]
    }
   ],
   "source": [
    "for i in range(2, len(parts)):\n",
    "    part = parts[i]\n",
    "    title = parts[i].split('\\n')[0].strip()\n",
    "    title_with_num = str(i-1).zfill(2) + \" \" + title\n",
    "    filename = title_with_num + \".md\"\n",
    "    page_link = f\"- [{title_with_num}](../blob/master/{filename})\"\n",
    "    print(page_link)\n",
    "    "
   ]
  }
 ],
 "metadata": {
  "kernelspec": {
   "display_name": "Python 3",
   "language": "python",
   "name": "python3"
  },
  "language_info": {
   "codemirror_mode": {
    "name": "ipython",
    "version": 3
   },
   "file_extension": ".py",
   "mimetype": "text/x-python",
   "name": "python",
   "nbconvert_exporter": "python",
   "pygments_lexer": "ipython3",
   "version": "3.9.4"
  },
  "orig_nbformat": 4,
  "vscode": {
   "interpreter": {
    "hash": "da20024804fad5350fda431ea2db37db985e4ababe34a9d1242fe2d15e5370f4"
   }
  }
 },
 "nbformat": 4,
 "nbformat_minor": 2
}
